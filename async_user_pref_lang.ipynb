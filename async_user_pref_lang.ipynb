{
  "cells": [
    {
      "cell_type": "code",
      "execution_count": 17,
      "metadata": {
        "id": "Z4z0gghUZXve"
      },
      "outputs": [],
      "source": [
        "\n",
        "import pandas as pd\n",
        "import os\n",
        "import aiohttp\n",
        "import asyncio\n",
        "from asyncio_throttle import Throttler"
      ]
    },
    {
      "cell_type": "code",
      "execution_count": 2,
      "metadata": {
        "id": "AE3ywDbhZXvg"
      },
      "outputs": [],
      "source": [
        "%load_ext dotenv\n",
        "%dotenv keys.env"
      ]
    },
    {
      "cell_type": "code",
      "execution_count": 16,
      "metadata": {
        "id": "Yt9Ia8CkZXvi"
      },
      "outputs": [],
      "source": [
        "# create an .env file in the source directory with the following variables:\n",
        "# usersKey=yourapikey\n",
        "api_key = os.getenv('usersKey')\n",
        "baseurl = \"https://api-na.hosted.exlibrisgroup.com/almaws/v1/users\""
      ]
    },
    {
      "cell_type": "code",
      "execution_count": 12,
      "metadata": {
        "id": "50Zpehw4wePr"
      },
      "outputs": [],
      "source": [
        "headers = {\n",
        "    \"Authorization\": f\"apikey {api_key}\",\n",
        "    \"Accept\": \"application/json\",\n",
        "    \"override\": \"preferred_language\"\n",
        "}"
      ]
    },
    {
      "cell_type": "code",
      "execution_count": 5,
      "metadata": {},
      "outputs": [],
      "source": [
        "# source file for user ids. only needs an 'id' column. comment out the second line if you don't need leading 0's.\n",
        "users = pd.read_excel('users.xlsx', sheet_name='Sheet1')\n",
        "users['id'] = ['0' + i for i in users['id'].astype(str)]"
      ]
    },
    {
      "cell_type": "code",
      "execution_count": 14,
      "metadata": {},
      "outputs": [],
      "source": [
        "async def call_users(df, headers):\n",
        "\n",
        "  throttler = Throttler(rate_limit=45)\n",
        "\n",
        "  async with aiohttp.ClientSession() as client:\n",
        "\n",
        "    awaitables = [\n",
        "        get_users(client=client, throttler=throttler, headers=headers, id=i)\n",
        "        for i in users['id']\n",
        "    ]\n",
        "\n",
        "    await asyncio.gather(*awaitables)\n"
      ]
    },
    {
      "cell_type": "code",
      "execution_count": 10,
      "metadata": {
        "id": "SAs6aEXyr0Lr"
      },
      "outputs": [],
      "source": [
        "async def get_users(client, throttler, headers, id):\n",
        "  try:\n",
        "    resp = None\n",
        "    url = baseurl + '/' + id\n",
        "    async with client.get(url, headers=headers) as session:\n",
        "      if session.status != 200:\n",
        "        resp = await session.text() \n",
        "        session.raise_for_status()\n",
        "      resp = await session.json() \n",
        "      modified_preferred_language = modify_user(resp['preferred_language'], \"es\", \"Spanish\") # modify the preferred language here\n",
        "      resp['preferred_language'] = modified_preferred_language # update the preferred language in the user obj\n",
        "      async with client.put(url, json=resp, headers=headers) as response: # update the user\n",
        "                    if response.status != 200:\n",
        "                        resp_text = await response.text()\n",
        "                        print(f'Failed to update user: {response.status} for {id} {resp_text}')\n",
        "                    else:\n",
        "                        print('User updated successfully')\n",
        "  except Exception as e:\n",
        "    print(f'{e} for {id}')\n",
        "  finally:\n",
        "    pass\n"
      ]
    },
    {
      "cell_type": "code",
      "execution_count": 8,
      "metadata": {},
      "outputs": [],
      "source": [
        "def modify_user(preferred_language, new_value, new_desc):\n",
        "    preferred_language['value'] = new_value\n",
        "    preferred_language['desc'] = new_desc\n",
        "    return preferred_language"
      ]
    },
    {
      "cell_type": "code",
      "execution_count": 15,
      "metadata": {
        "id": "XrxEAyKL9JgP"
      },
      "outputs": [
        {
          "name": "stdout",
          "output_type": "stream",
          "text": [
            " {'value': 'en', 'desc': 'English'} for 01234567\n",
            "User updated successfully\n"
          ]
        }
      ],
      "source": [
        "await call_users(users, headers)"
      ]
    }
  ],
  "metadata": {
    "colab": {
      "provenance": []
    },
    "interpreter": {
      "hash": "ad2bdc8ecc057115af97d19610ffacc2b4e99fae6737bb82f5d7fb13d2f2c186"
    },
    "kernelspec": {
      "display_name": "Python 3.9.7 ('base')",
      "language": "python",
      "name": "python3"
    },
    "language_info": {
      "codemirror_mode": {
        "name": "ipython",
        "version": 3
      },
      "file_extension": ".py",
      "mimetype": "text/x-python",
      "name": "python",
      "nbconvert_exporter": "python",
      "pygments_lexer": "ipython3",
      "version": "3.11.3"
    },
    "orig_nbformat": 4
  },
  "nbformat": 4,
  "nbformat_minor": 0
}
